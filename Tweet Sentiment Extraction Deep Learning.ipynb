{
 "cells": [
  {
   "cell_type": "code",
   "execution_count": 1,
   "id": "c24b6d44",
   "metadata": {},
   "outputs": [
    {
     "name": "stdout",
     "output_type": "stream",
     "text": [
      "WARNING:tensorflow:From C:\\Users\\himan\\anaconda3\\Lib\\site-packages\\keras\\src\\losses.py:2976: The name tf.losses.sparse_softmax_cross_entropy is deprecated. Please use tf.compat.v1.losses.sparse_softmax_cross_entropy instead.\n",
      "\n"
     ]
    }
   ],
   "source": [
    "import numpy as np\n",
    "import pandas as pd\n",
    "import tensorflow as tf\n",
    "from tensorflow.keras.utils import to_categorical\n",
    "from tensorflow.keras.preprocessing.sequence import pad_sequences\n",
    "from tensorflow.keras.models import Sequential\n",
    "from tensorflow.keras.layers import Embedding, SimpleRNN, LSTM, GRU, Dense, Dropout\n",
    "from tensorflow.keras.callbacks import EarlyStopping\n",
    "from tensorflow.keras.preprocessing.text import Tokenizer"
   ]
  },
  {
   "cell_type": "code",
   "execution_count": 2,
   "id": "33fa898e",
   "metadata": {},
   "outputs": [],
   "source": [
    "tf.config.run_functions_eagerly(True)\n"
   ]
  },
  {
   "cell_type": "code",
   "execution_count": 3,
   "id": "744cae98",
   "metadata": {},
   "outputs": [
    {
     "data": {
      "text/html": [
       "<div>\n",
       "<style scoped>\n",
       "    .dataframe tbody tr th:only-of-type {\n",
       "        vertical-align: middle;\n",
       "    }\n",
       "\n",
       "    .dataframe tbody tr th {\n",
       "        vertical-align: top;\n",
       "    }\n",
       "\n",
       "    .dataframe thead th {\n",
       "        text-align: right;\n",
       "    }\n",
       "</style>\n",
       "<table border=\"1\" class=\"dataframe\">\n",
       "  <thead>\n",
       "    <tr style=\"text-align: right;\">\n",
       "      <th></th>\n",
       "      <th>textID</th>\n",
       "      <th>text</th>\n",
       "      <th>selected_text</th>\n",
       "      <th>sentiment</th>\n",
       "    </tr>\n",
       "  </thead>\n",
       "  <tbody>\n",
       "    <tr>\n",
       "      <th>0</th>\n",
       "      <td>cb774db0d1</td>\n",
       "      <td>I`d have responded, if I were going</td>\n",
       "      <td>I`d have responded, if I were going</td>\n",
       "      <td>neutral</td>\n",
       "    </tr>\n",
       "    <tr>\n",
       "      <th>1</th>\n",
       "      <td>549e992a42</td>\n",
       "      <td>Sooo SAD I will miss you here in San Diego!!!</td>\n",
       "      <td>Sooo SAD</td>\n",
       "      <td>negative</td>\n",
       "    </tr>\n",
       "    <tr>\n",
       "      <th>2</th>\n",
       "      <td>088c60f138</td>\n",
       "      <td>my boss is bullying me...</td>\n",
       "      <td>bullying me</td>\n",
       "      <td>negative</td>\n",
       "    </tr>\n",
       "    <tr>\n",
       "      <th>3</th>\n",
       "      <td>9642c003ef</td>\n",
       "      <td>what interview! leave me alone</td>\n",
       "      <td>leave me alone</td>\n",
       "      <td>negative</td>\n",
       "    </tr>\n",
       "    <tr>\n",
       "      <th>4</th>\n",
       "      <td>358bd9e861</td>\n",
       "      <td>Sons of ****, why couldn`t they put them on t...</td>\n",
       "      <td>Sons of ****,</td>\n",
       "      <td>negative</td>\n",
       "    </tr>\n",
       "    <tr>\n",
       "      <th>...</th>\n",
       "      <td>...</td>\n",
       "      <td>...</td>\n",
       "      <td>...</td>\n",
       "      <td>...</td>\n",
       "    </tr>\n",
       "    <tr>\n",
       "      <th>27476</th>\n",
       "      <td>4eac33d1c0</td>\n",
       "      <td>wish we could come see u on Denver  husband l...</td>\n",
       "      <td>d lost</td>\n",
       "      <td>negative</td>\n",
       "    </tr>\n",
       "    <tr>\n",
       "      <th>27477</th>\n",
       "      <td>4f4c4fc327</td>\n",
       "      <td>I`ve wondered about rake to.  The client has ...</td>\n",
       "      <td>, don`t force</td>\n",
       "      <td>negative</td>\n",
       "    </tr>\n",
       "    <tr>\n",
       "      <th>27478</th>\n",
       "      <td>f67aae2310</td>\n",
       "      <td>Yay good for both of you. Enjoy the break - y...</td>\n",
       "      <td>Yay good for both of you.</td>\n",
       "      <td>positive</td>\n",
       "    </tr>\n",
       "    <tr>\n",
       "      <th>27479</th>\n",
       "      <td>ed167662a5</td>\n",
       "      <td>But it was worth it  ****.</td>\n",
       "      <td>But it was worth it  ****.</td>\n",
       "      <td>positive</td>\n",
       "    </tr>\n",
       "    <tr>\n",
       "      <th>27480</th>\n",
       "      <td>6f7127d9d7</td>\n",
       "      <td>All this flirting going on - The ATG smiles...</td>\n",
       "      <td>All this flirting going on - The ATG smiles. Y...</td>\n",
       "      <td>neutral</td>\n",
       "    </tr>\n",
       "  </tbody>\n",
       "</table>\n",
       "<p>27481 rows × 4 columns</p>\n",
       "</div>"
      ],
      "text/plain": [
       "           textID                                               text  \\\n",
       "0      cb774db0d1                I`d have responded, if I were going   \n",
       "1      549e992a42      Sooo SAD I will miss you here in San Diego!!!   \n",
       "2      088c60f138                          my boss is bullying me...   \n",
       "3      9642c003ef                     what interview! leave me alone   \n",
       "4      358bd9e861   Sons of ****, why couldn`t they put them on t...   \n",
       "...           ...                                                ...   \n",
       "27476  4eac33d1c0   wish we could come see u on Denver  husband l...   \n",
       "27477  4f4c4fc327   I`ve wondered about rake to.  The client has ...   \n",
       "27478  f67aae2310   Yay good for both of you. Enjoy the break - y...   \n",
       "27479  ed167662a5                         But it was worth it  ****.   \n",
       "27480  6f7127d9d7     All this flirting going on - The ATG smiles...   \n",
       "\n",
       "                                           selected_text sentiment  \n",
       "0                    I`d have responded, if I were going   neutral  \n",
       "1                                               Sooo SAD  negative  \n",
       "2                                            bullying me  negative  \n",
       "3                                         leave me alone  negative  \n",
       "4                                          Sons of ****,  negative  \n",
       "...                                                  ...       ...  \n",
       "27476                                             d lost  negative  \n",
       "27477                                      , don`t force  negative  \n",
       "27478                          Yay good for both of you.  positive  \n",
       "27479                         But it was worth it  ****.  positive  \n",
       "27480  All this flirting going on - The ATG smiles. Y...   neutral  \n",
       "\n",
       "[27481 rows x 4 columns]"
      ]
     },
     "metadata": {},
     "output_type": "display_data"
    },
    {
     "data": {
      "text/html": [
       "<div>\n",
       "<style scoped>\n",
       "    .dataframe tbody tr th:only-of-type {\n",
       "        vertical-align: middle;\n",
       "    }\n",
       "\n",
       "    .dataframe tbody tr th {\n",
       "        vertical-align: top;\n",
       "    }\n",
       "\n",
       "    .dataframe thead th {\n",
       "        text-align: right;\n",
       "    }\n",
       "</style>\n",
       "<table border=\"1\" class=\"dataframe\">\n",
       "  <thead>\n",
       "    <tr style=\"text-align: right;\">\n",
       "      <th></th>\n",
       "      <th>textID</th>\n",
       "      <th>text</th>\n",
       "      <th>sentiment</th>\n",
       "    </tr>\n",
       "  </thead>\n",
       "  <tbody>\n",
       "    <tr>\n",
       "      <th>0</th>\n",
       "      <td>f87dea47db</td>\n",
       "      <td>Last session of the day  http://twitpic.com/67ezh</td>\n",
       "      <td>neutral</td>\n",
       "    </tr>\n",
       "    <tr>\n",
       "      <th>1</th>\n",
       "      <td>96d74cb729</td>\n",
       "      <td>Shanghai is also really exciting (precisely -...</td>\n",
       "      <td>positive</td>\n",
       "    </tr>\n",
       "    <tr>\n",
       "      <th>2</th>\n",
       "      <td>eee518ae67</td>\n",
       "      <td>Recession hit Veronique Branquinho, she has to...</td>\n",
       "      <td>negative</td>\n",
       "    </tr>\n",
       "    <tr>\n",
       "      <th>3</th>\n",
       "      <td>01082688c6</td>\n",
       "      <td>happy bday!</td>\n",
       "      <td>positive</td>\n",
       "    </tr>\n",
       "    <tr>\n",
       "      <th>4</th>\n",
       "      <td>33987a8ee5</td>\n",
       "      <td>http://twitpic.com/4w75p - I like it!!</td>\n",
       "      <td>positive</td>\n",
       "    </tr>\n",
       "    <tr>\n",
       "      <th>...</th>\n",
       "      <td>...</td>\n",
       "      <td>...</td>\n",
       "      <td>...</td>\n",
       "    </tr>\n",
       "    <tr>\n",
       "      <th>3529</th>\n",
       "      <td>e5f0e6ef4b</td>\n",
       "      <td>its at 3 am, im very tired but i can`t sleep  ...</td>\n",
       "      <td>negative</td>\n",
       "    </tr>\n",
       "    <tr>\n",
       "      <th>3530</th>\n",
       "      <td>416863ce47</td>\n",
       "      <td>All alone in this old house again.  Thanks for...</td>\n",
       "      <td>positive</td>\n",
       "    </tr>\n",
       "    <tr>\n",
       "      <th>3531</th>\n",
       "      <td>6332da480c</td>\n",
       "      <td>I know what you mean. My little dog is sinkin...</td>\n",
       "      <td>negative</td>\n",
       "    </tr>\n",
       "    <tr>\n",
       "      <th>3532</th>\n",
       "      <td>df1baec676</td>\n",
       "      <td>_sutra what is your next youtube video gonna b...</td>\n",
       "      <td>positive</td>\n",
       "    </tr>\n",
       "    <tr>\n",
       "      <th>3533</th>\n",
       "      <td>469e15c5a8</td>\n",
       "      <td>http://twitpic.com/4woj2 - omgssh  ang cute n...</td>\n",
       "      <td>positive</td>\n",
       "    </tr>\n",
       "  </tbody>\n",
       "</table>\n",
       "<p>3534 rows × 3 columns</p>\n",
       "</div>"
      ],
      "text/plain": [
       "          textID                                               text sentiment\n",
       "0     f87dea47db  Last session of the day  http://twitpic.com/67ezh   neutral\n",
       "1     96d74cb729   Shanghai is also really exciting (precisely -...  positive\n",
       "2     eee518ae67  Recession hit Veronique Branquinho, she has to...  negative\n",
       "3     01082688c6                                        happy bday!  positive\n",
       "4     33987a8ee5             http://twitpic.com/4w75p - I like it!!  positive\n",
       "...          ...                                                ...       ...\n",
       "3529  e5f0e6ef4b  its at 3 am, im very tired but i can`t sleep  ...  negative\n",
       "3530  416863ce47  All alone in this old house again.  Thanks for...  positive\n",
       "3531  6332da480c   I know what you mean. My little dog is sinkin...  negative\n",
       "3532  df1baec676  _sutra what is your next youtube video gonna b...  positive\n",
       "3533  469e15c5a8   http://twitpic.com/4woj2 - omgssh  ang cute n...  positive\n",
       "\n",
       "[3534 rows x 3 columns]"
      ]
     },
     "metadata": {},
     "output_type": "display_data"
    }
   ],
   "source": [
    "# Reading the datasets\n",
    "df_train = pd.read_csv('train_Tweet.csv')\n",
    "df_test = pd.read_csv('test_Tweet.csv')\n",
    "\n",
    "display(df_train)\n",
    "display(df_test)"
   ]
  },
  {
   "cell_type": "code",
   "execution_count": 4,
   "id": "9ea56736",
   "metadata": {},
   "outputs": [
    {
     "data": {
      "text/plain": [
       "27481"
      ]
     },
     "execution_count": 4,
     "metadata": {},
     "output_type": "execute_result"
    }
   ],
   "source": [
    "len(df_train)\n"
   ]
  },
  {
   "cell_type": "code",
   "execution_count": 5,
   "id": "cb2a32b0",
   "metadata": {},
   "outputs": [
    {
     "data": {
      "text/html": [
       "<div>\n",
       "<style scoped>\n",
       "    .dataframe tbody tr th:only-of-type {\n",
       "        vertical-align: middle;\n",
       "    }\n",
       "\n",
       "    .dataframe tbody tr th {\n",
       "        vertical-align: top;\n",
       "    }\n",
       "\n",
       "    .dataframe thead th {\n",
       "        text-align: right;\n",
       "    }\n",
       "</style>\n",
       "<table border=\"1\" class=\"dataframe\">\n",
       "  <thead>\n",
       "    <tr style=\"text-align: right;\">\n",
       "      <th></th>\n",
       "      <th>count</th>\n",
       "      <th>unique</th>\n",
       "      <th>top</th>\n",
       "      <th>freq</th>\n",
       "    </tr>\n",
       "  </thead>\n",
       "  <tbody>\n",
       "    <tr>\n",
       "      <th>textID</th>\n",
       "      <td>27481</td>\n",
       "      <td>27481</td>\n",
       "      <td>cb774db0d1</td>\n",
       "      <td>1</td>\n",
       "    </tr>\n",
       "    <tr>\n",
       "      <th>text</th>\n",
       "      <td>27480</td>\n",
       "      <td>27480</td>\n",
       "      <td>I`d have responded, if I were going</td>\n",
       "      <td>1</td>\n",
       "    </tr>\n",
       "    <tr>\n",
       "      <th>selected_text</th>\n",
       "      <td>27480</td>\n",
       "      <td>22463</td>\n",
       "      <td>good</td>\n",
       "      <td>199</td>\n",
       "    </tr>\n",
       "    <tr>\n",
       "      <th>sentiment</th>\n",
       "      <td>27481</td>\n",
       "      <td>3</td>\n",
       "      <td>neutral</td>\n",
       "      <td>11118</td>\n",
       "    </tr>\n",
       "  </tbody>\n",
       "</table>\n",
       "</div>"
      ],
      "text/plain": [
       "               count unique                                   top   freq\n",
       "textID         27481  27481                            cb774db0d1      1\n",
       "text           27480  27480   I`d have responded, if I were going      1\n",
       "selected_text  27480  22463                                  good    199\n",
       "sentiment      27481      3                               neutral  11118"
      ]
     },
     "execution_count": 5,
     "metadata": {},
     "output_type": "execute_result"
    }
   ],
   "source": [
    "# Check properties information\n",
    "df_train.describe().T\n"
   ]
  },
  {
   "cell_type": "code",
   "execution_count": 6,
   "id": "1629988f",
   "metadata": {},
   "outputs": [
    {
     "data": {
      "text/plain": [
       "textID           0\n",
       "text             1\n",
       "selected_text    1\n",
       "sentiment        0\n",
       "dtype: int64"
      ]
     },
     "execution_count": 6,
     "metadata": {},
     "output_type": "execute_result"
    }
   ],
   "source": [
    "df_train.isna().sum()\n"
   ]
  },
  {
   "cell_type": "code",
   "execution_count": 7,
   "id": "6b1b9f72",
   "metadata": {},
   "outputs": [
    {
     "data": {
      "text/plain": [
       "textID       0\n",
       "text         0\n",
       "sentiment    0\n",
       "dtype: int64"
      ]
     },
     "execution_count": 7,
     "metadata": {},
     "output_type": "execute_result"
    }
   ],
   "source": [
    "df_test.isna().sum()\n"
   ]
  },
  {
   "cell_type": "code",
   "execution_count": 8,
   "id": "3c4bd683",
   "metadata": {},
   "outputs": [],
   "source": [
    "df_train.dropna(inplace=True)\n"
   ]
  },
  {
   "cell_type": "code",
   "execution_count": 9,
   "id": "3e179a34",
   "metadata": {},
   "outputs": [
    {
     "name": "stdout",
     "output_type": "stream",
     "text": [
      "First Row in the Training Dataset:\n",
      "textID                                     cb774db0d1\n",
      "text              I`d have responded, if I were going\n",
      "selected_text     I`d have responded, if I were going\n",
      "sentiment                                     neutral\n",
      "Name: 0, dtype: object\n",
      "------------------------------\n",
      "Number of Matching Rows: 7283\n"
     ]
    }
   ],
   "source": [
    "# Print the first row in the training dataset\n",
    "print(\"First Row in the Training Dataset:\")\n",
    "print(df_train.iloc[0])\n",
    "\n",
    "print('-' * 30)\n",
    "\n",
    "# Count the number of rows where 'text' is equal to 'selected_text'\n",
    "matching_rows = len(df_train[df_train['text'] == df_train['selected_text']])\n",
    "print(f\"Number of Matching Rows: {matching_rows}\")"
   ]
  },
  {
   "cell_type": "code",
   "execution_count": 10,
   "id": "b5334ef9",
   "metadata": {},
   "outputs": [],
   "source": [
    "# Check for empty strings - train set\n",
    "blanks_train = []\n",
    "\n",
    "for i, tid, t, tst, snt in df_train.itertuples():\n",
    "    if type(t) == str and t.isspace():\n",
    "        blanks_train.append(i)\n",
    "        \n",
    "if len(blanks_train) > 0:\n",
    "    print(len(blanks_train))\n",
    "    df_train.drop(blanks_train, inplace=True)"
   ]
  },
  {
   "cell_type": "code",
   "execution_count": 11,
   "id": "3085971e",
   "metadata": {},
   "outputs": [],
   "source": [
    "# Check for empty strings - test set\n",
    "blanks_test = []\n",
    "\n",
    "for i, tid, t, snt in df_test.itertuples():\n",
    "    if type(t) == str and t.isspace():\n",
    "        blanks_test.append(i)\n",
    "        \n",
    "if len(blanks_test) > 0:\n",
    "    print(len(blanks_test))\n",
    "    df_train.drop(blanks_test, inplace=True)"
   ]
  },
  {
   "cell_type": "code",
   "execution_count": 12,
   "id": "2c2719a3",
   "metadata": {},
   "outputs": [
    {
     "data": {
      "text/plain": [
       "neutral     11117\n",
       "positive     8582\n",
       "negative     7781\n",
       "Name: sentiment, dtype: int64"
      ]
     },
     "execution_count": 12,
     "metadata": {},
     "output_type": "execute_result"
    }
   ],
   "source": [
    "df_train['sentiment'].value_counts()\n"
   ]
  },
  {
   "cell_type": "code",
   "execution_count": 13,
   "id": "eafafa7c",
   "metadata": {},
   "outputs": [
    {
     "name": "stdout",
     "output_type": "stream",
     "text": [
      "ANOVA Test Results:\n",
      "F-statistic: 72.2127709711816\n",
      "P-value: 5.254438748898152e-32\n",
      "The means of at least two groups are significantly different.\n"
     ]
    }
   ],
   "source": [
    "# Performing T-Test\n",
    "from scipy import stats\n",
    "\n",
    "df_train['text_length'] = df_train['text'].apply(lambda t: len(str(t)))\n",
    "\n",
    "positive_text_lengths = df_train[df_train['sentiment'] == 'positive']['text_length']\n",
    "negative_text_lengths = df_train[df_train['sentiment'] == 'negative']['text_length']\n",
    "neutral_text_lengths = df_train[df_train['sentiment'] == 'neutral']['text_length']\n",
    "\n",
    "# Perform ANOVA test\n",
    "f_statistic, p_value = stats.f_oneway(positive_text_lengths, negative_text_lengths, neutral_text_lengths)\n",
    "\n",
    "# Print the results\n",
    "print(\"ANOVA Test Results:\")\n",
    "print(f\"F-statistic: {f_statistic}\")\n",
    "print(f\"P-value: {p_value}\")\n",
    "\n",
    "# Interpret the results\n",
    "alpha = 0.05  # Set your significance level\n",
    "if p_value < alpha:\n",
    "    print(\"The means of at least two groups are significantly different.\")\n",
    "else:\n",
    "    print(\"There is no significant difference in the means of the groups.\")"
   ]
  },
  {
   "cell_type": "code",
   "execution_count": 14,
   "id": "8c0bce25",
   "metadata": {},
   "outputs": [],
   "source": [
    "# Preparing the data\n",
    "max_len = 32\n",
    "num_words = 500"
   ]
  },
  {
   "cell_type": "code",
   "execution_count": 15,
   "id": "bcc25c92",
   "metadata": {},
   "outputs": [],
   "source": [
    "# Tokenizing\n",
    "tok = Tokenizer(num_words=num_words)\n",
    "tok.fit_on_texts(df_train['text'])\n"
   ]
  },
  {
   "cell_type": "code",
   "execution_count": 16,
   "id": "080264fe",
   "metadata": {},
   "outputs": [],
   "source": [
    "# Defining X and y\n",
    "X_train = df_train['text']\n",
    "y_train = df_train['sentiment']\n",
    "\n",
    "X_test = df_test['text']\n",
    "y_test = df_test['sentiment']\n"
   ]
  },
  {
   "cell_type": "code",
   "execution_count": 17,
   "id": "7aabfa76",
   "metadata": {},
   "outputs": [],
   "source": [
    "X_train_mat = tok.texts_to_sequences(X_train)\n",
    "X_test_mat = tok.texts_to_sequences(X_test)"
   ]
  },
  {
   "cell_type": "code",
   "execution_count": 18,
   "id": "feed195d",
   "metadata": {},
   "outputs": [],
   "source": [
    "# Pad sequences to the same length\n",
    "X_train_padded = pad_sequences(X_train_mat, maxlen=max_len)\n",
    "X_test_padded = pad_sequences(X_test_mat, maxlen=max_len)"
   ]
  },
  {
   "cell_type": "code",
   "execution_count": 19,
   "id": "31b0182a",
   "metadata": {},
   "outputs": [],
   "source": [
    "y_train = pd.get_dummies(y_train, drop_first=True, dtype=int).to_numpy()\n",
    "y_test = pd.get_dummies(y_test, drop_first=True, dtype=int).to_numpy()"
   ]
  },
  {
   "cell_type": "code",
   "execution_count": 28,
   "id": "e275be5f",
   "metadata": {},
   "outputs": [
    {
     "data": {
      "text/plain": [
       "array([[1, 0],\n",
       "       [0, 0],\n",
       "       [0, 0],\n",
       "       ...,\n",
       "       [0, 1],\n",
       "       [0, 1],\n",
       "       [1, 0]])"
      ]
     },
     "execution_count": 28,
     "metadata": {},
     "output_type": "execute_result"
    }
   ],
   "source": [
    "y_train"
   ]
  },
  {
   "cell_type": "code",
   "execution_count": 29,
   "id": "d8941cde",
   "metadata": {},
   "outputs": [
    {
     "data": {
      "text/plain": [
       "(27480, 2)"
      ]
     },
     "execution_count": 29,
     "metadata": {},
     "output_type": "execute_result"
    }
   ],
   "source": [
    "y_train.shape"
   ]
  },
  {
   "cell_type": "code",
   "execution_count": 30,
   "id": "7948509b",
   "metadata": {},
   "outputs": [
    {
     "data": {
      "text/plain": [
       "(3534, 2)"
      ]
     },
     "execution_count": 30,
     "metadata": {},
     "output_type": "execute_result"
    }
   ],
   "source": [
    "y_test.shape"
   ]
  },
  {
   "cell_type": "code",
   "execution_count": 31,
   "id": "323a4aa5",
   "metadata": {},
   "outputs": [
    {
     "data": {
      "text/plain": [
       "array([[1, 0],\n",
       "       [0, 1],\n",
       "       [0, 0],\n",
       "       ...,\n",
       "       [0, 0],\n",
       "       [0, 1],\n",
       "       [0, 1]])"
      ]
     },
     "execution_count": 31,
     "metadata": {},
     "output_type": "execute_result"
    }
   ],
   "source": [
    "y_test"
   ]
  },
  {
   "cell_type": "code",
   "execution_count": 20,
   "id": "8eb46c08",
   "metadata": {},
   "outputs": [],
   "source": [
    "# Create NN Architectures\n",
    "\n",
    "# RNN\n",
    "def create_rnn_model(units, dropout_rate):\n",
    "    model = Sequential()\n",
    "    model.add(Embedding(num_words, 128, input_length=max_len))\n",
    "    model.add(SimpleRNN(units))\n",
    "    model.add(Dropout(dropout_rate))\n",
    "    model.add(Dense(2, activation='sigmoid'))\n",
    "    return model\n",
    "\n",
    "# LSTM\n",
    "def create_lstm_model(units, dropout_rate):\n",
    "    model = Sequential()\n",
    "    model.add(Embedding(num_words, 32, input_length=max_len))\n",
    "    model.add(LSTM(units))\n",
    "    model.add(Dropout(dropout_rate))\n",
    "    model.add(Dense(2, activation='sigmoid'))\n",
    "    return model\n",
    "\n",
    "# GRU\n",
    "def create_gru_model(units, dropout_rate):\n",
    "    model = Sequential()\n",
    "    model.add(Embedding(num_words, 32, input_length=max_len))\n",
    "    model.add(GRU(units))\n",
    "    model.add(Dropout(dropout_rate))\n",
    "    model.add(Dense(2, activation='sigmoid'))\n",
    "    return model"
   ]
  },
  {
   "cell_type": "code",
   "execution_count": 21,
   "id": "3b6c48f9",
   "metadata": {},
   "outputs": [],
   "source": [
    "# Define hyperparameters\n",
    "units = 128\n",
    "dropout_rate = 0.3"
   ]
  },
  {
   "cell_type": "code",
   "execution_count": 22,
   "id": "79c81b3f",
   "metadata": {},
   "outputs": [
    {
     "name": "stdout",
     "output_type": "stream",
     "text": [
      "WARNING:tensorflow:From C:\\Users\\himan\\anaconda3\\Lib\\site-packages\\keras\\src\\backend.py:873: The name tf.get_default_graph is deprecated. Please use tf.compat.v1.get_default_graph instead.\n",
      "\n",
      "WARNING:tensorflow:From C:\\Users\\himan\\anaconda3\\Lib\\site-packages\\keras\\src\\optimizers\\__init__.py:309: The name tf.train.Optimizer is deprecated. Please use tf.compat.v1.train.Optimizer instead.\n",
      "\n"
     ]
    }
   ],
   "source": [
    "# Create and compile the models\n",
    "\n",
    "# RNN\n",
    "rnn_model = create_rnn_model(units, dropout_rate)\n",
    "rnn_model.compile(optimizer='adam', loss='categorical_crossentropy', metrics=['accuracy'])\n",
    "\n",
    "# LSTM\n",
    "lstm_model = create_lstm_model(units, dropout_rate)\n",
    "lstm_model.compile(optimizer='adam', loss='categorical_crossentropy', metrics=['accuracy'])\n",
    "\n",
    "# GRU\n",
    "gru_model = create_gru_model(units, dropout_rate)\n",
    "gru_model.compile(optimizer='adam', loss='categorical_crossentropy', metrics=['accuracy'])"
   ]
  },
  {
   "cell_type": "code",
   "execution_count": 23,
   "id": "21964265",
   "metadata": {},
   "outputs": [],
   "source": [
    "early_stopping = EarlyStopping(patience=3, restore_best_weights=True)\n"
   ]
  },
  {
   "cell_type": "code",
   "execution_count": 24,
   "id": "85dd6bb1",
   "metadata": {},
   "outputs": [
    {
     "name": "stdout",
     "output_type": "stream",
     "text": [
      "Epoch 1/20\n",
      "WARNING:tensorflow:From C:\\Users\\himan\\anaconda3\\Lib\\site-packages\\keras\\src\\utils\\tf_utils.py:492: The name tf.ragged.RaggedTensorValue is deprecated. Please use tf.compat.v1.ragged.RaggedTensorValue instead.\n",
      "\n"
     ]
    },
    {
     "name": "stderr",
     "output_type": "stream",
     "text": [
      "C:\\Users\\himan\\anaconda3\\Lib\\site-packages\\tensorflow\\python\\data\\ops\\structured_function.py:258: UserWarning: Even though the `tf.config.experimental_run_functions_eagerly` option is set, this option does not apply to tf.data functions. To force eager execution of tf.data functions, please use `tf.data.experimental.enable_debug_mode()`.\n",
      "  warnings.warn(\n"
     ]
    },
    {
     "name": "stdout",
     "output_type": "stream",
     "text": [
      "172/172 [==============================] - 39s 225ms/step - loss: 0.5899 - accuracy: 0.5198 - val_loss: 0.4877 - val_accuracy: 0.7012\n",
      "Epoch 2/20\n",
      "172/172 [==============================] - 41s 237ms/step - loss: 0.6049 - accuracy: 0.5192 - val_loss: 0.4864 - val_accuracy: 0.7012\n",
      "Epoch 3/20\n",
      "172/172 [==============================] - 40s 236ms/step - loss: 0.6006 - accuracy: 0.5177 - val_loss: 0.4871 - val_accuracy: 0.7012\n",
      "Epoch 4/20\n",
      "172/172 [==============================] - 40s 230ms/step - loss: 0.5926 - accuracy: 0.5553 - val_loss: 0.4886 - val_accuracy: 0.7012\n",
      "Epoch 5/20\n",
      "172/172 [==============================] - 40s 235ms/step - loss: 0.5864 - accuracy: 0.6772 - val_loss: 0.4846 - val_accuracy: 0.7012\n",
      "Epoch 6/20\n",
      "172/172 [==============================] - 43s 250ms/step - loss: 0.5785 - accuracy: 0.6843 - val_loss: 0.4841 - val_accuracy: 0.7012\n",
      "Epoch 7/20\n",
      "172/172 [==============================] - 40s 233ms/step - loss: 0.5783 - accuracy: 0.6843 - val_loss: 0.4877 - val_accuracy: 0.7012\n",
      "Epoch 8/20\n",
      "172/172 [==============================] - 38s 218ms/step - loss: 0.5739 - accuracy: 0.6843 - val_loss: 0.4851 - val_accuracy: 0.7012\n",
      "Epoch 9/20\n",
      "172/172 [==============================] - 36s 210ms/step - loss: 0.5772 - accuracy: 0.6843 - val_loss: 0.4840 - val_accuracy: 0.7012\n",
      "Epoch 10/20\n",
      "172/172 [==============================] - 36s 210ms/step - loss: 0.5727 - accuracy: 0.6843 - val_loss: 0.4864 - val_accuracy: 0.7012\n",
      "Epoch 11/20\n",
      "172/172 [==============================] - 35s 201ms/step - loss: 0.5671 - accuracy: 0.6843 - val_loss: 0.4876 - val_accuracy: 0.7012\n",
      "Epoch 12/20\n",
      "172/172 [==============================] - 38s 224ms/step - loss: 0.5581 - accuracy: 0.6843 - val_loss: 0.4864 - val_accuracy: 0.7012\n",
      "Epoch 1/20\n",
      "172/172 [==============================] - 63s 368ms/step - loss: 0.5977 - accuracy: 0.5378 - val_loss: 0.4846 - val_accuracy: 0.7012\n",
      "Epoch 2/20\n",
      "172/172 [==============================] - 62s 362ms/step - loss: 0.6319 - accuracy: 0.5283 - val_loss: 0.4851 - val_accuracy: 0.7012\n",
      "Epoch 3/20\n",
      "172/172 [==============================] - 70s 405ms/step - loss: 0.6212 - accuracy: 0.5277 - val_loss: 0.4875 - val_accuracy: 0.7012\n",
      "Epoch 4/20\n",
      "172/172 [==============================] - 62s 358ms/step - loss: 0.6202 - accuracy: 0.5672 - val_loss: 0.4840 - val_accuracy: 0.7012\n",
      "Epoch 5/20\n",
      "172/172 [==============================] - 64s 370ms/step - loss: 0.6101 - accuracy: 0.6797 - val_loss: 0.4845 - val_accuracy: 0.7012\n",
      "Epoch 6/20\n",
      "172/172 [==============================] - 67s 387ms/step - loss: 0.6059 - accuracy: 0.6844 - val_loss: 0.4844 - val_accuracy: 0.7012\n",
      "Epoch 7/20\n",
      "172/172 [==============================] - 71s 414ms/step - loss: 0.6035 - accuracy: 0.6843 - val_loss: 0.4840 - val_accuracy: 0.7012\n",
      "Epoch 1/20\n",
      "172/172 [==============================] - 69s 400ms/step - loss: 0.5738 - accuracy: 0.5463 - val_loss: 0.4821 - val_accuracy: 0.7012\n",
      "Epoch 2/20\n",
      "172/172 [==============================] - 665s 4s/step - loss: 0.5887 - accuracy: 0.5259 - val_loss: 0.4819 - val_accuracy: 0.7056\n",
      "Epoch 3/20\n",
      "172/172 [==============================] - 36s 206ms/step - loss: 0.5799 - accuracy: 0.5409 - val_loss: 0.4732 - val_accuracy: 0.7305\n",
      "Epoch 4/20\n",
      "172/172 [==============================] - 37s 213ms/step - loss: 0.5648 - accuracy: 0.5820 - val_loss: 0.4456 - val_accuracy: 0.7012\n",
      "Epoch 5/20\n",
      "172/172 [==============================] - 56s 324ms/step - loss: 0.5325 - accuracy: 0.6817 - val_loss: 0.4256 - val_accuracy: 0.7012\n",
      "Epoch 6/20\n",
      "172/172 [==============================] - 56s 326ms/step - loss: 0.5227 - accuracy: 0.6843 - val_loss: 0.4215 - val_accuracy: 0.7012\n",
      "Epoch 7/20\n",
      "172/172 [==============================] - 51s 297ms/step - loss: 0.5220 - accuracy: 0.6843 - val_loss: 0.4268 - val_accuracy: 0.7012\n",
      "Epoch 8/20\n",
      "172/172 [==============================] - 48s 278ms/step - loss: 0.5246 - accuracy: 0.6843 - val_loss: 0.4323 - val_accuracy: 0.7012\n",
      "Epoch 9/20\n",
      "172/172 [==============================] - 48s 277ms/step - loss: 0.5205 - accuracy: 0.6843 - val_loss: 0.4313 - val_accuracy: 0.7012\n"
     ]
    }
   ],
   "source": [
    "# Train the models\n",
    "\n",
    "# RNN\n",
    "rnn_history = rnn_model.fit(X_train_padded, y_train, epochs=20, batch_size=128, \n",
    "                            validation_split=0.2, callbacks=[early_stopping])\n",
    "\n",
    "# LSTM\n",
    "lstm_history = lstm_model.fit(X_train_padded, y_train, epochs=20, batch_size=128, \n",
    "                              validation_split=0.2, callbacks=[early_stopping])\n",
    "\n",
    "# GRU\n",
    "gru_history = gru_model.fit(X_train_padded, y_train, epochs=20, batch_size=128, \n",
    "                            validation_split=0.2, callbacks=[early_stopping])"
   ]
  },
  {
   "cell_type": "code",
   "execution_count": 25,
   "id": "7df1eab9",
   "metadata": {},
   "outputs": [
    {
     "name": "stdout",
     "output_type": "stream",
     "text": [
      "RNN Validation Accuracy: 0.7012372612953186\n",
      "LSTM Validation Accuracy: 0.7012372612953186\n",
      "GRU Validation Accuracy: 0.7305312752723694\n",
      "--------------------------------------------------\n",
      "Max Validation Accuracy: 0.7305312752723694\n"
     ]
    }
   ],
   "source": [
    "rnn_val_acc = max(rnn_history.history['val_accuracy'])\n",
    "lstm_val_acc = max(lstm_history.history['val_accuracy'])\n",
    "gru_val_acc = max(gru_history.history['val_accuracy'])\n",
    "max_val_acc = max(rnn_val_acc, lstm_val_acc, gru_val_acc)\n",
    "\n",
    "\n",
    "print(\"RNN Validation Accuracy:\", rnn_val_acc)\n",
    "print(\"LSTM Validation Accuracy:\", lstm_val_acc)\n",
    "print(\"GRU Validation Accuracy:\", gru_val_acc)\n",
    "print('-' * 50)\n",
    "print(\"Max Validation Accuracy:\", max_val_acc)"
   ]
  },
  {
   "cell_type": "code",
   "execution_count": 26,
   "id": "c0152da5",
   "metadata": {},
   "outputs": [],
   "source": [
    "# Define a function to save the models\n",
    "from datetime import datetime\n",
    "\n",
    "def save_model(model, prefix=''):\n",
    "    current_datetime = datetime.now().strftime(\"%Y-%m-%d_%H-%M-%S\")\n",
    "    filename = f\"{prefix}model_{current_datetime}.h5\"\n",
    "\n",
    "    model.save(f'{filename}')\n",
    "    print(f\"Model saved to {filename}\")"
   ]
  },
  {
   "cell_type": "code",
   "execution_count": 27,
   "id": "453ce402",
   "metadata": {},
   "outputs": [
    {
     "name": "stdout",
     "output_type": "stream",
     "text": [
      "Model saved to rnnmodel_2024-02-08_21-56-29.h5\n",
      "Model saved to lstmmodel_2024-02-08_21-56-29.h5\n",
      "Model saved to grumodel_2024-02-08_21-56-29.h5\n"
     ]
    },
    {
     "name": "stderr",
     "output_type": "stream",
     "text": [
      "C:\\Users\\himan\\anaconda3\\Lib\\site-packages\\keras\\src\\engine\\training.py:3103: UserWarning: You are saving your model as an HDF5 file via `model.save()`. This file format is considered legacy. We recommend using instead the native Keras format, e.g. `model.save('my_model.keras')`.\n",
      "  saving_api.save_model(\n"
     ]
    }
   ],
   "source": [
    "# Saving the models\n",
    "save_model(rnn_model, prefix='rnn')\n",
    "save_model(lstm_model, prefix='lstm')\n",
    "save_model(gru_model, prefix='gru')"
   ]
  },
  {
   "cell_type": "code",
   "execution_count": null,
   "id": "59a9e93c",
   "metadata": {},
   "outputs": [],
   "source": []
  }
 ],
 "metadata": {
  "kernelspec": {
   "display_name": "Python 3 (ipykernel)",
   "language": "python",
   "name": "python3"
  },
  "language_info": {
   "codemirror_mode": {
    "name": "ipython",
    "version": 3
   },
   "file_extension": ".py",
   "mimetype": "text/x-python",
   "name": "python",
   "nbconvert_exporter": "python",
   "pygments_lexer": "ipython3",
   "version": "3.11.5"
  }
 },
 "nbformat": 4,
 "nbformat_minor": 5
}
